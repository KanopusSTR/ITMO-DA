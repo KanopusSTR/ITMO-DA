{
 "cells": [
  {
   "cell_type": "code",
   "execution_count": 30,
   "id": "initial_id",
   "metadata": {
    "collapsed": true,
    "ExecuteTime": {
     "end_time": "2023-09-27T19:07:58.282141355Z",
     "start_time": "2023-09-27T19:07:58.234665268Z"
    }
   },
   "outputs": [],
   "source": [
    "import multiprocessing\n",
    "import requests\n",
    "from selenium import webdriver\n",
    "import lxml.html as ll\n",
    "import pandas as pd\n",
    "from selenium.webdriver.chrome.options import Options\n",
    "\n",
    "import constants as const"
   ]
  },
  {
   "cell_type": "code",
   "execution_count": 31,
   "outputs": [],
   "source": [
    "def clone(element):\n",
    "    return ll.etree.fromstring(ll.etree.tostring(element))"
   ],
   "metadata": {
    "collapsed": false,
    "ExecuteTime": {
     "end_time": "2023-09-27T19:08:00.788224268Z",
     "start_time": "2023-09-27T19:08:00.780252676Z"
    }
   },
   "id": "988e77803399eea0"
  },
  {
   "cell_type": "code",
   "execution_count": 32,
   "outputs": [],
   "source": [
    "def getDriver():\n",
    "    options = Options()\n",
    "    options.add_argument('--headless=new')\n",
    "    options.add_argument('--no-sandbox')\n",
    "    options.add_argument('--disable-dev-shm-usage')\n",
    "    options.add_argument('--disable-gpu')\n",
    "    return webdriver.Chrome(options=options)"
   ],
   "metadata": {
    "collapsed": false,
    "ExecuteTime": {
     "end_time": "2023-09-27T19:08:04.343811529Z",
     "start_time": "2023-09-27T19:08:04.336334552Z"
    }
   },
   "id": "5bbe17ada9a2e683"
  },
  {
   "cell_type": "code",
   "execution_count": 41,
   "outputs": [],
   "source": [
    "def create(link):\n",
    "    r = requests.get(link, headers={'User-agent': const.PROFILE_USER_AGENT, 'Cookie': const.PROFILE_COOKIE})\n",
    "\n",
    "    root_profile = ll.fromstring(r.text)\n",
    "\n",
    "    string = root_profile.xpath(\"//span[@class='information season']/a/text()\")\n",
    "    if len(string) == 0:\n",
    "        string = \"Unknown\"\n",
    "    else:\n",
    "        string = string[0]\n",
    "\n",
    "    return Comics(float(root_profile.xpath(\"//div[@class='fl-l score']/div/text()\")[0]),\n",
    "                  int(root_profile.xpath(\"//span[@class='numbers ranked']/strong/text()\")[0][1:]),\n",
    "                  int(root_profile.xpath(\"//span[@class='numbers popularity']/strong/text()\")[0][1:]),\n",
    "                  int(root_profile.xpath(\"//span[@class='numbers members']/strong/text()\")[0].replace(',', '')),\n",
    "                  root_profile.xpath(\"//span[@class='information type']/a/text()\")[0],\n",
    "                  string,\n",
    "                  int(root_profile.xpath(\"//div[@class='recommended']/a/strong/text()\")[0]),\n",
    "                  int(root_profile.xpath(\"//div[@class='mixed-feelings']/a/strong/text()\")[0]),\n",
    "                  int(root_profile.xpath(\"//div[@class='not-recommended']/a/strong/text()\")[0]))"
   ],
   "metadata": {
    "collapsed": false,
    "ExecuteTime": {
     "end_time": "2023-09-27T19:18:46.474863764Z",
     "start_time": "2023-09-27T19:18:46.469387166Z"
    }
   },
   "id": "89524ea86fd604de"
  },
  {
   "cell_type": "code",
   "execution_count": 59,
   "outputs": [],
   "source": [
    "class Comics:\n",
    "    def __init__(self, *args):\n",
    "        self.values = args\n",
    "        self.current = -1\n",
    "    \n",
    "    def __iter__(self):\n",
    "        return self\n",
    "\n",
    "    def __next__(self):\n",
    "        self.current += 1\n",
    "        if self.current < 9:\n",
    "            return self.values[self.current]\n",
    "        raise StopIteration"
   ],
   "metadata": {
    "collapsed": false,
    "ExecuteTime": {
     "end_time": "2023-09-27T19:45:19.576711880Z",
     "start_time": "2023-09-27T19:45:19.569568038Z"
    }
   },
   "id": "b1ce636e972db3a1"
  },
  {
   "cell_type": "code",
   "execution_count": 35,
   "outputs": [],
   "source": [
    "links = []\n",
    "\n",
    "amount = {\n",
    "    'manga': 1500,\n",
    "    'manhwa': 1000,\n",
    "    'oneshots': 1000\n",
    "}\n",
    "\n",
    "for myType in ['manga', 'manhwa', 'oneshots']:\n",
    "    for i in range(0, amount[myType], 50):\n",
    "        driver = getDriver()\n",
    "        driver.get(const.BASE_URL + myType + \"&limit=\" + str(i))\n",
    "        root = ll.fromstring(driver.page_source)\n",
    "        name_divs = root.xpath(\"//tbody/tr[@class='ranking-list']\")\n",
    "        for div in name_divs:\n",
    "            links.append(clone(div).xpath(\"//a[@class='hoverinfo_trigger fs14 fw-b']\")[0].attrib['href'])\n"
   ],
   "metadata": {
    "collapsed": false,
    "ExecuteTime": {
     "end_time": "2023-09-27T19:10:47.002257420Z",
     "start_time": "2023-09-27T19:08:11.365337144Z"
    }
   },
   "id": "5acad87cafe2d494"
  },
  {
   "cell_type": "code",
   "execution_count": 55,
   "outputs": [],
   "source": [
    "data = []\n",
    "with multiprocessing.Pool(30) as p:\n",
    "    data.extend(p.map(create, links))\n"
   ],
   "metadata": {
    "collapsed": false,
    "ExecuteTime": {
     "end_time": "2023-09-27T19:37:39.764909435Z",
     "start_time": "2023-09-27T19:35:48.554212276Z"
    }
   },
   "id": "e213174bd278e945"
  },
  {
   "cell_type": "code",
   "execution_count": 56,
   "outputs": [],
   "source": [
    "df = pd.DataFrame.from_records(data,\n",
    "                               columns=['SCORE', 'Ranked', 'Popularity', 'Members', 'Type', 'Magazine', ' Recommended',\n",
    "                                        'Mixed Feelings', 'Not Recommended'])\n",
    "df.to_csv('out.csv', index=False)"
   ],
   "metadata": {
    "collapsed": false,
    "ExecuteTime": {
     "end_time": "2023-09-27T19:37:39.806645655Z",
     "start_time": "2023-09-27T19:37:39.806196017Z"
    }
   },
   "id": "77a44dcc3b2258da"
  },
  {
   "cell_type": "code",
   "execution_count": null,
   "outputs": [],
   "source": [],
   "metadata": {
    "collapsed": false
   },
   "id": "e2276954eb244d9b"
  }
 ],
 "metadata": {
  "kernelspec": {
   "display_name": "Python 3",
   "language": "python",
   "name": "python3"
  },
  "language_info": {
   "codemirror_mode": {
    "name": "ipython",
    "version": 2
   },
   "file_extension": ".py",
   "mimetype": "text/x-python",
   "name": "python",
   "nbconvert_exporter": "python",
   "pygments_lexer": "ipython2",
   "version": "2.7.6"
  }
 },
 "nbformat": 4,
 "nbformat_minor": 5
}
